{
 "cells": [
  {
   "cell_type": "code",
   "execution_count": 1,
   "metadata": {},
   "outputs": [],
   "source": [
    "import os\n",
    "import random"
   ]
  },
  {
   "cell_type": "code",
   "execution_count": 2,
   "metadata": {},
   "outputs": [],
   "source": [
    "file_path = r'windows path, include goes here' # where you want the file to be stored\n",
    "file_ext  = '.GRDECL'                           # extension for the file, GRDECL is the usual one"
   ]
  },
  {
   "cell_type": "code",
   "execution_count": 3,
   "metadata": {},
   "outputs": [],
   "source": [
    "# inputs from user, X, Y, Z dimensions and the keywords you wish to be written\n",
    "X, Y, Z = 466, 421, 20   # X, Y and Z, the dimensions of your grid\n",
    "keyword_list = ['MULTX', 'MULTX-', 'MULTY', 'MULTY-'] # keyword would be written for each member of this list"
   ]
  },
  {
   "cell_type": "code",
   "execution_count": 4,
   "metadata": {},
   "outputs": [],
   "source": [
    "def grid_randomiser(x, y, z):\n",
    "    # craetes a grid and initilise it with random values between 0 and 1\n",
    "    grid = []\n",
    "    counter = 1\n",
    "    while counter <= X * Y * Z:\n",
    "        grid.append(round(random.uniform(0,1),3))\n",
    "        counter += 1\n",
    "    return grid"
   ]
  },
  {
   "cell_type": "code",
   "execution_count": 5,
   "metadata": {},
   "outputs": [],
   "source": [
    "counter = 0\n",
    "\n",
    "for keyword in keyword_list:\n",
    "    with open(os.path.join(file_path, keyword + file_ext), 'w+') as f:\n",
    "        f.write('BOX' + '\\n')\n",
    "        f.write('--Matrix Box' + '\\n')\n",
    "        f.write(' 1 ' + str(X) + ' 1 ' + str(Y) + ' 1 ' + str(Z) + ' /' + '\\n' + '\\n')\n",
    "        f.write(keyword + '\\n')\n",
    "        f.write(str(X*Y*Z) + '*' + '1' + ' /' + '\\n' + '\\n')        \n",
    "        f.write('ENDBOX' + '\\n' + '\\n')\n",
    "        \n",
    "        f.write('BOX' + '\\n')\n",
    "        f.write('--Fracture Box' + '\\n')\n",
    "        f.write(' 1 ' + str(X) + ' 1 ' + str(Y) + ' ' + str(Z+1) + ' ' + str(Z+Z) + ' /' + '\\n' + '\\n')\n",
    "        f.write(keyword + '\\n')\n",
    "        \n",
    "        for item in grid_randomiser(X,Y,Z): # calling the functin to generate the random values for fracture\n",
    "            if counter == 35:\n",
    "                f.write('\\n')\n",
    "                counter = 0\n",
    "\n",
    "            else:    \n",
    "                f.write(str(item) + ' ')\n",
    "                counter = counter + 1\n",
    "        \n",
    "        f.write(' /' + '\\n')\n",
    "        f.write('\\n' + 'ENDBOX')"
   ]
  }
 ],
 "metadata": {
  "kernelspec": {
   "display_name": "Python 3",
   "language": "python",
   "name": "python3"
  },
  "language_info": {
   "codemirror_mode": {
    "name": "ipython",
    "version": 3
   },
   "file_extension": ".py",
   "mimetype": "text/x-python",
   "name": "python",
   "nbconvert_exporter": "python",
   "pygments_lexer": "ipython3",
   "version": "3.7.4"
  }
 },
 "nbformat": 4,
 "nbformat_minor": 2
}
