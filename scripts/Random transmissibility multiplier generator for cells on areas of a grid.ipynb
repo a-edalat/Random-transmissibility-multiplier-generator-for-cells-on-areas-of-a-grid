{
 "cells": [
  {
   "cell_type": "markdown",
   "metadata": {},
   "source": [
    "# <font color='blue'> Random transmissibility multiplier generator for cells on areas of a grid </font>\n",
    "\n",
    "This scrip is designed to a read a FIPNUM include and expand it. Currently it writes all the values at one, but in future the idea is to only generated random transimissiblity for specific area based on the FIPNUM value.\n",
    "\n",
    "The main work is done, the addition of writing on area that have specific FIPNUM value should be easy to implement."
   ]
  },
  {
   "cell_type": "code",
   "execution_count": null,
   "metadata": {},
   "outputs": [],
   "source": [
    "import os\n",
    "import numpy as np"
   ]
  },
  {
   "cell_type": "code",
   "execution_count": null,
   "metadata": {},
   "outputs": [],
   "source": [
    "path =      r'Windows path, include would be read from here'\n",
    "file_name = 'FSC_RESERVES_2020_PROP_FIPNUM.GRDECL'\n",
    "file_path = r'Windows path, include would be written to here'\n",
    "file_ext  = '.GRDECL'                           # extension for the file, GRDECL is the usual one"
   ]
  },
  {
   "cell_type": "code",
   "execution_count": null,
   "metadata": {},
   "outputs": [],
   "source": [
    "with open(os.path.join(path, file_name), 'r') as f:  # reading a GRDECL file similar to one to be written later\n",
    "    base = f.readlines()\n",
    "    \n",
    "line_number = 0\n",
    "flag = 0\n",
    "\n",
    "for item in base:\n",
    "    item = item.strip()\n",
    "    \n",
    "    if flag == 0 and item[:12] == '--Matrix Box': # marked it to find the grid dimensions\n",
    "        flag = 0.5\n",
    "        continue\n",
    "        \n",
    "    elif flag == 0.5:                             # finding the dimenstions of the grid\n",
    "        dimen = item.split(\" \")\n",
    "        flag = 1\n",
    "\n",
    "    elif item[:6] == 'ENDBOX' and flag == 2:      # if ENDBOX is reached, stops the file, consides the last file\n",
    "        last_line = line_number\n",
    "        flag = 3\n",
    "    \n",
    "    elif item.find('*') > 0   and flag == 1:      # if * is used, marks the start of the grid data\n",
    "        first_line = line_number + 1\n",
    "        flag = 2\n",
    "    \n",
    "    line_number += 1                              # counting the number of the lines\n",
    "    \n",
    "grid_inc = base[first_line:last_line]             # Useful part of the grid file\n",
    "\n",
    "X = int(dimen[1])\n",
    "Y = int(dimen[3])\n",
    "Z = int(dimen[5])\n",
    "\n",
    "total_cell_count = X * Y * Z  # this returns the total number of the cells in the model"
   ]
  },
  {
   "cell_type": "code",
   "execution_count": null,
   "metadata": {},
   "outputs": [],
   "source": [
    "grid_init = []\n",
    "for line in grid_inc:\n",
    "    line = line.strip()\n",
    "    grid_item = line.split(\" \")\n",
    "    \n",
    "    for item in grid_item:\n",
    "        grid_init.append(item) # This is a list of all the values for the grid, comma separated"
   ]
  },
  {
   "cell_type": "code",
   "execution_count": null,
   "metadata": {},
   "outputs": [],
   "source": [
    "grid_b = [] # value behind asteriks\n",
    "grid_a = [] # value after asteriks\n",
    "for item in grid_init:\n",
    "    ast_loc = item.find('*')\n",
    "        \n",
    "    if ast_loc > 0:\n",
    "        counter = int(item[:ast_loc])\n",
    "        value   =  int(item[ast_loc+1:])\n",
    "        grid_b.append(counter)\n",
    "        grid_a.append(value)\n",
    "    \n",
    "    elif item != \"/\":\n",
    "        grid.append(1)"
   ]
  },
  {
   "cell_type": "code",
   "execution_count": null,
   "metadata": {},
   "outputs": [],
   "source": [
    "new_grid = []  # new_grid \n",
    "\n",
    "for item in grid:\n",
    "    for i in range (item):\n",
    "        new_grid.append(1)"
   ]
  },
  {
   "cell_type": "code",
   "execution_count": null,
   "metadata": {},
   "outputs": [],
   "source": [
    "keyword_list = ['MULTX', 'MULTX-', 'MULTY', 'MULTY-'] # keyword would be written for each member of this list\n",
    "counter = 0\n",
    "\n",
    "for keyword in keyword_list:\n",
    "    with open(os.path.join(file_path, keyword + file_ext), 'w+') as f:\n",
    "        f.write('BOX' + '\\n')\n",
    "        f.write('--Matrix Box' + '\\n')\n",
    "        f.write(' 1 ' + str(X) + ' 1 ' + str(Y) + ' 1 ' + str(Z) + ' /' + '\\n' + '\\n')\n",
    "        f.write(keyword + '\\n')\n",
    "        f.write(str(X*Y*Z) + '*' + '1' + ' /' + '\\n' + '\\n')        \n",
    "        f.write('ENDBOX' + '\\n' + '\\n')\n",
    "        \n",
    "        f.write('BOX' + '\\n')\n",
    "        f.write('--Fracture Box' + '\\n')\n",
    "        f.write(' 1 ' + str(X) + ' 1 ' + str(Y) + ' ' + str(Z+1) + ' ' + str(Z+Z) + ' /' + '\\n' + '\\n')\n",
    "        f.write(keyword + '\\n')\n",
    "        \n",
    "        for item in new_grid: # all the unpacked grid files\n",
    "            if counter == 35:\n",
    "                f.write('\\n')\n",
    "                counter = 0\n",
    "\n",
    "            else:    \n",
    "                f.write(str(item) + ' ')\n",
    "                counter = counter + 1\n",
    "        \n",
    "        f.write(' /' + '\\n')\n",
    "        f.write('\\n' + 'ENDBOX')"
   ]
  }
 ],
 "metadata": {
  "kernelspec": {
   "display_name": "Python 3",
   "language": "python",
   "name": "python3"
  },
  "language_info": {
   "codemirror_mode": {
    "name": "ipython",
    "version": 3
   },
   "file_extension": ".py",
   "mimetype": "text/x-python",
   "name": "python",
   "nbconvert_exporter": "python",
   "pygments_lexer": "ipython3",
   "version": "3.7.4"
  }
 },
 "nbformat": 4,
 "nbformat_minor": 2
}
