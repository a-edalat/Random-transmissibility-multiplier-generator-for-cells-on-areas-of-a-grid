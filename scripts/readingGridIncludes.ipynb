{
 "cells": [
  {
   "cell_type": "code",
   "execution_count": null,
   "metadata": {},
   "outputs": [],
   "source": [
    "import os\n",
    "import numpy as np"
   ]
  },
  {
   "cell_type": "code",
   "execution_count": null,
   "metadata": {},
   "outputs": [],
   "source": [
    "path = r'A:\\Scratch\\Amin\\GRDECL for Turaj'\n",
    "file_name = 'FSC_RESERVES_2020_PROP_FIPNUM.GRDECL'"
   ]
  },
  {
   "cell_type": "code",
   "execution_count": null,
   "metadata": {},
   "outputs": [],
   "source": [
    "grid = []\n",
    "grid_init = []\n",
    "\n",
    "with open(os.path.join(path, file_name), 'r') as f:\n",
    "    base = f.readlines()\n",
    "    \n",
    "line_number = 0\n",
    "flag = 0\n",
    "\n",
    "for item in base:\n",
    "    item = item.strip()\n",
    "    \n",
    "    if flag == 0 and item[:12] == '--Matrix Box':\n",
    "        flag = 0.5\n",
    "        continue\n",
    "        \n",
    "    elif flag == 0.5:\n",
    "        dimen = item.split(\" \")\n",
    "        flag = 1\n",
    "\n",
    "    elif item[:6] == 'ENDBOX' and flag == 2:\n",
    "        last_line = line_number\n",
    "        flag = 3\n",
    "    \n",
    "    elif item.find('*') > 0   and flag == 1:\n",
    "        first_line = line_number + 1\n",
    "        flag = 2\n",
    "    \n",
    "    line_number += 1\n",
    "    \n",
    "grid_inc = base[first_line:last_line]\n",
    "\n",
    "X = int(dimen[1])\n",
    "Y = int(dimen[3])\n",
    "Z = int(dimen[5])\n",
    "\n",
    "total_cell_count = X * Y * Z  # this returns the total number of the cells in the model"
   ]
  },
  {
   "cell_type": "code",
   "execution_count": null,
   "metadata": {},
   "outputs": [],
   "source": [
    "for line in grid_inc:\n",
    "    line = line.strip()\n",
    "    grid_item = line.split(\" \")\n",
    "    \n",
    "    for item in grid_item:\n",
    "        grid_init.append(item) # This is a list of all the values for the grid"
   ]
  },
  {
   "cell_type": "code",
   "execution_count": null,
   "metadata": {},
   "outputs": [],
   "source": [
    "grid = []\n",
    "for item in grid_init:\n",
    "    ast_loc = item.find('*')\n",
    "        \n",
    "    if ast_loc > 0:\n",
    "        counter = int(item[:ast_loc])\n",
    "        grid.append(counter)\n",
    "    \n",
    "    elif item != \"/\":\n",
    "        grid.append(1)"
   ]
  },
  {
   "cell_type": "code",
   "execution_count": null,
   "metadata": {},
   "outputs": [],
   "source": [
    "new_grid = []\n",
    "\n",
    "grid_test = grid[1:]\n",
    "\n",
    "for item in grid_test:\n",
    "    for i in range (item):\n",
    "        new_grid.append(1)\n",
    "print(new_grid)"
   ]
  }
 ],
 "metadata": {
  "kernelspec": {
   "display_name": "Python 3",
   "language": "python",
   "name": "python3"
  },
  "language_info": {
   "codemirror_mode": {
    "name": "ipython",
    "version": 3
   },
   "file_extension": ".py",
   "mimetype": "text/x-python",
   "name": "python",
   "nbconvert_exporter": "python",
   "pygments_lexer": "ipython3",
   "version": "3.7.4"
  }
 },
 "nbformat": 4,
 "nbformat_minor": 2
}
